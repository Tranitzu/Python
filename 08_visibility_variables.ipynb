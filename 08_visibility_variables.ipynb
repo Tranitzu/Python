{
  "nbformat": 4,
  "nbformat_minor": 0,
  "metadata": {
    "colab": {
      "provenance": [],
      "authorship_tag": "ABX9TyNBJwvYChFT8HRvaqez/Z6G",
      "include_colab_link": true
    },
    "kernelspec": {
      "name": "python3",
      "display_name": "Python 3"
    },
    "language_info": {
      "name": "python"
    }
  },
  "cells": [
    {
      "cell_type": "markdown",
      "metadata": {
        "id": "view-in-github",
        "colab_type": "text"
      },
      "source": [
        "<a href=\"https://colab.research.google.com/github/Tranitzu/Python/blob/main/08_visibility_variables.ipynb\" target=\"_parent\"><img src=\"https://colab.research.google.com/assets/colab-badge.svg\" alt=\"Open In Colab\"/></a>"
      ]
    },
    {
      "cell_type": "markdown",
      "source": [
        "## Widoczność zmiennych\n",
        "\n",
        "Rodzaje zmiennych/atrybutów ze względu na widoczność:\n",
        "* publiczne – dostęp mają wszyscy, np. `var1`, `var2`\n",
        "* chronione – dostęp mają klasy dziedziczące, o tym opowiemy później, np. `_var1`, `_var2`\n",
        "* prywatne – dostęp ma tylko ta klasa, np. `__var1`, `__var2`"
      ],
      "metadata": {
        "id": "cpGTD_S-GEzD"
      }
    },
    {
      "cell_type": "code",
      "execution_count": 1,
      "metadata": {
        "id": "64xrLNjIF_uL",
        "colab": {
          "base_uri": "https://localhost:8080/"
        },
        "outputId": "b4a1ad2d-d08c-48b2-c602-2f268e77d00b"
      },
      "outputs": [
        {
          "output_type": "execute_result",
          "data": {
            "text/plain": [
              "mappingproxy({'__module__': '__main__',\n",
              "              'brand': 'Apple',\n",
              "              '__dict__': <attribute '__dict__' of 'Laptop' objects>,\n",
              "              '__weakref__': <attribute '__weakref__' of 'Laptop' objects>,\n",
              "              '__doc__': None})"
            ]
          },
          "metadata": {},
          "execution_count": 1
        }
      ],
      "source": [
        "class Laptop:\n",
        "\n",
        "    brand = 'Apple'\n",
        "\n",
        "Laptop.__dict__"
      ]
    },
    {
      "cell_type": "code",
      "source": [
        "Laptop.brand"
      ],
      "metadata": {
        "colab": {
          "base_uri": "https://localhost:8080/"
        },
        "id": "RDL5Nl2LDr7O",
        "outputId": "e7627acc-6f02-4174-fc03-f416dc95576a"
      },
      "execution_count": 3,
      "outputs": [
        {
          "output_type": "execute_result",
          "data": {
            "text/plain": [
              "'Apple'"
            ]
          },
          "metadata": {},
          "execution_count": 3
        }
      ]
    },
    {
      "cell_type": "code",
      "source": [
        "class Laptop:\n",
        "\n",
        "    brand = 'Apple'\n",
        "    _code = '0034'\n",
        "\n",
        "Laptop.__dict__"
      ],
      "metadata": {
        "colab": {
          "base_uri": "https://localhost:8080/"
        },
        "id": "EBlkG5pfDiR8",
        "outputId": "313d3d12-b3f4-4ac5-8a13-93e21f728fd4"
      },
      "execution_count": 2,
      "outputs": [
        {
          "output_type": "execute_result",
          "data": {
            "text/plain": [
              "mappingproxy({'__module__': '__main__',\n",
              "              'brand': 'Apple',\n",
              "              '_code': '0034',\n",
              "              '__dict__': <attribute '__dict__' of 'Laptop' objects>,\n",
              "              '__weakref__': <attribute '__weakref__' of 'Laptop' objects>,\n",
              "              '__doc__': None})"
            ]
          },
          "metadata": {},
          "execution_count": 2
        }
      ]
    },
    {
      "cell_type": "code",
      "source": [
        "Laptop._code"
      ],
      "metadata": {
        "colab": {
          "base_uri": "https://localhost:8080/"
        },
        "id": "JvlAXV-VDoQY",
        "outputId": "d7a9c975-fcc0-451e-8bdd-ce2b2f790ed0"
      },
      "execution_count": 4,
      "outputs": [
        {
          "output_type": "execute_result",
          "data": {
            "text/plain": [
              "'0034'"
            ]
          },
          "metadata": {},
          "execution_count": 4
        }
      ]
    },
    {
      "cell_type": "code",
      "source": [
        "class Laptop:\n",
        "\n",
        "    brand = 'Apple'\n",
        "    _code = '0034'\n",
        "    __wholesale_price = 2490\n",
        "\n",
        "Laptop.__dict__"
      ],
      "metadata": {
        "colab": {
          "base_uri": "https://localhost:8080/"
        },
        "id": "jFHo7OELDwQV",
        "outputId": "49b80491-2ed9-42ed-8470-2863a9d913a8"
      },
      "execution_count": 5,
      "outputs": [
        {
          "output_type": "execute_result",
          "data": {
            "text/plain": [
              "mappingproxy({'__module__': '__main__',\n",
              "              'brand': 'Apple',\n",
              "              '_code': '0034',\n",
              "              '_Laptop__wholesale_price': 2490,\n",
              "              '__dict__': <attribute '__dict__' of 'Laptop' objects>,\n",
              "              '__weakref__': <attribute '__weakref__' of 'Laptop' objects>,\n",
              "              '__doc__': None})"
            ]
          },
          "metadata": {},
          "execution_count": 5
        }
      ]
    },
    {
      "cell_type": "code",
      "source": [
        "Laptop._Laptop__wholesale_price"
      ],
      "metadata": {
        "colab": {
          "base_uri": "https://localhost:8080/"
        },
        "id": "G9o3OaKaD3b1",
        "outputId": "17870a69-4ac2-46d7-d9be-1503c1956069"
      },
      "execution_count": 6,
      "outputs": [
        {
          "output_type": "execute_result",
          "data": {
            "text/plain": [
              "2490"
            ]
          },
          "metadata": {},
          "execution_count": 6
        }
      ]
    },
    {
      "cell_type": "markdown",
      "source": [
        "###Przykład"
      ],
      "metadata": {
        "id": "OASobfsJEKgh"
      }
    },
    {
      "cell_type": "code",
      "source": [
        "class Laptop:\n",
        "\n",
        "    brand = 'Apple'\n",
        "    _usdpln = 4.0\n",
        "    __trade_margin = 0.3\n",
        "\n",
        "    def __init__(self, net_price):\n",
        "        self.net_price = net_price\n",
        "\n",
        "    def _convert_price(price):\n",
        "        return price * Laptop._usdpln * (1 + Laptop._Laptop__trade_margin)\n",
        "\n",
        "    def display_price_pln(self):\n",
        "        print(Laptop._convert_price(self.net_price))\n",
        "\n",
        "\n",
        "Laptop.__dict__"
      ],
      "metadata": {
        "colab": {
          "base_uri": "https://localhost:8080/"
        },
        "id": "0ezCHgEDEAyg",
        "outputId": "eaf579a5-8793-4bea-a4e0-b53e633fab82"
      },
      "execution_count": 12,
      "outputs": [
        {
          "output_type": "execute_result",
          "data": {
            "text/plain": [
              "mappingproxy({'__module__': '__main__',\n",
              "              'brand': 'Apple',\n",
              "              '_usdpln': 4.0,\n",
              "              '_Laptop__trade_margin': 0.3,\n",
              "              '__init__': <function __main__.Laptop.__init__(self, net_price)>,\n",
              "              '_convert_price': <function __main__.Laptop._convert_price(price)>,\n",
              "              'display_price_pln': <function __main__.Laptop.display_price_pln(self)>,\n",
              "              '__dict__': <attribute '__dict__' of 'Laptop' objects>,\n",
              "              '__weakref__': <attribute '__weakref__' of 'Laptop' objects>,\n",
              "              '__doc__': None})"
            ]
          },
          "metadata": {},
          "execution_count": 12
        }
      ]
    },
    {
      "cell_type": "code",
      "source": [
        "laptop = Laptop(3000)\n",
        "laptop.display_price_pln()"
      ],
      "metadata": {
        "colab": {
          "base_uri": "https://localhost:8080/"
        },
        "id": "Ic0Y0NvEFJ65",
        "outputId": "0af9b3c2-9bf8-4a5d-932e-aab4642b5c71"
      },
      "execution_count": 13,
      "outputs": [
        {
          "output_type": "stream",
          "name": "stdout",
          "text": [
            "15600.0\n"
          ]
        }
      ]
    },
    {
      "cell_type": "code",
      "source": [
        "class Laptop:\n",
        "\n",
        "    brand = 'Apple'\n",
        "    _usdpln = 4.0\n",
        "    __trade_margin = 0.3\n",
        "\n",
        "    def __init__(self, net_price):\n",
        "        self.net_price = net_price\n",
        "\n",
        "    def _convert_price(price):\n",
        "        return price * Laptop._usdpln * (1 + Laptop._Laptop__trade_margin)\n",
        "\n",
        "    def display_price_pln(self):\n",
        "        print(Laptop._convert_price(self.net_price))\n",
        "\n",
        "\n",
        "Laptop.__dict__"
      ],
      "metadata": {
        "id": "QK5KEKlfFTUM"
      },
      "execution_count": null,
      "outputs": []
    },
    {
      "cell_type": "markdown",
      "source": [
        "###Atrybuty instancji\n"
      ],
      "metadata": {
        "id": "ybQIr-gSLMO_"
      }
    },
    {
      "cell_type": "code",
      "source": [
        "class Laptop:\n",
        "\n",
        "    def __init__(self, brand):\n",
        "        self.brand = brand\n",
        "\n",
        "laptop = Laptop('Apple')\n",
        "laptop.brand"
      ],
      "metadata": {
        "colab": {
          "base_uri": "https://localhost:8080/"
        },
        "id": "p-Ahy3JWLOlZ",
        "outputId": "2ddc3464-4677-4899-df70-24c958348b24"
      },
      "execution_count": 14,
      "outputs": [
        {
          "output_type": "execute_result",
          "data": {
            "text/plain": [
              "'Apple'"
            ]
          },
          "metadata": {},
          "execution_count": 14
        }
      ]
    },
    {
      "cell_type": "code",
      "source": [
        "class Laptop:\n",
        "\n",
        "    def __init__(self, brand,code):\n",
        "        self.brand = brand\n",
        "        self._code = code\n",
        "\n",
        "laptop = Laptop('Apple', '0043')\n",
        "laptop._code"
      ],
      "metadata": {
        "colab": {
          "base_uri": "https://localhost:8080/"
        },
        "id": "OE7Jc5_MLUYg",
        "outputId": "1ad8ab3f-029a-4a94-d1f6-54fe935afe17"
      },
      "execution_count": 16,
      "outputs": [
        {
          "output_type": "execute_result",
          "data": {
            "text/plain": [
              "'0043'"
            ]
          },
          "metadata": {},
          "execution_count": 16
        }
      ]
    },
    {
      "cell_type": "code",
      "source": [
        "class Laptop:\n",
        "\n",
        "    def __init__(self, brand,code, wholesale_price):\n",
        "        self.brand = brand\n",
        "        self._code = code\n",
        "        self.__wholesale_price = wholesale_price\n",
        "\n",
        "laptop = Laptop('Apple', '0043', 3000)\n",
        "laptop._Laptop__wholesale_price"
      ],
      "metadata": {
        "colab": {
          "base_uri": "https://localhost:8080/"
        },
        "id": "1c884eTQSe0J",
        "outputId": "58a04115-bdaa-4011-ce13-67a5c63dcd4f"
      },
      "execution_count": 23,
      "outputs": [
        {
          "output_type": "execute_result",
          "data": {
            "text/plain": [
              "3000"
            ]
          },
          "metadata": {},
          "execution_count": 23
        }
      ]
    },
    {
      "cell_type": "code",
      "source": [
        "class Laptop:\n",
        "\n",
        "    def __init__(self, brand,code, wholesale_price):\n",
        "        self.brand = brand\n",
        "        self._code = code\n",
        "        self.__wholesale_price = wholesale_price\n",
        "\n",
        "    def info(self):\n",
        "        print(self.brand)\n",
        "        print(self._code)\n",
        "        print(self.__wholesale_price)\n",
        "\n",
        "laptop = Laptop('Apple', '0043', 3000)\n",
        "laptop.info()"
      ],
      "metadata": {
        "colab": {
          "base_uri": "https://localhost:8080/"
        },
        "id": "j7NQ4ztISp6B",
        "outputId": "44b522c2-ea4f-451e-8333-6114e751bb32"
      },
      "execution_count": 26,
      "outputs": [
        {
          "output_type": "stream",
          "name": "stdout",
          "text": [
            "Apple\n",
            "0043\n",
            "3000\n"
          ]
        }
      ]
    },
    {
      "cell_type": "markdown",
      "source": [
        "###Przykład"
      ],
      "metadata": {
        "id": "F7K4NeyTTLOv"
      }
    },
    {
      "cell_type": "code",
      "source": [
        "class HouseProject:\n",
        "\n",
        "    def __init__(self, area, number_of_floors):\n",
        "        self.area = area\n",
        "        self.number_of_floors = number_of_floors\n",
        "\n",
        "    def info(self):\n",
        "        print(f'Area: {self.area}')\n",
        "        print(f'Number of floors: {self.number_of_floors}')\n",
        "\n",
        "\n",
        "def info_ext(instance):\n",
        "    print(f'Area: {instance.area}')\n",
        "    print(f'Number of floors: {instance.number_of_floors}')\n",
        "\n",
        "\n",
        "project = HouseProject(100, 1)"
      ],
      "metadata": {
        "id": "IGkTX5dPTFuN"
      },
      "execution_count": 32,
      "outputs": []
    },
    {
      "cell_type": "code",
      "source": [
        "project.info()"
      ],
      "metadata": {
        "colab": {
          "base_uri": "https://localhost:8080/"
        },
        "id": "XQxeadV6Tp3N",
        "outputId": "56f9d861-e045-45bc-d7eb-29346af2cc46"
      },
      "execution_count": 33,
      "outputs": [
        {
          "output_type": "stream",
          "name": "stdout",
          "text": [
            "Area: 100\n",
            "Number of floors: 1\n"
          ]
        }
      ]
    },
    {
      "cell_type": "code",
      "source": [
        "info_ext(project)"
      ],
      "metadata": {
        "colab": {
          "base_uri": "https://localhost:8080/"
        },
        "id": "bgInj6g7T05L",
        "outputId": "309df67f-3e1b-4382-eda1-f02056577156"
      },
      "execution_count": 34,
      "outputs": [
        {
          "output_type": "stream",
          "name": "stdout",
          "text": [
            "Area: 100\n",
            "Number of floors: 1\n"
          ]
        }
      ]
    },
    {
      "cell_type": "code",
      "source": [
        "class HouseProject:\n",
        "\n",
        "    def __init__(self, area, number_of_floors):\n",
        "        self._area = area\n",
        "        self._number_of_floors = number_of_floors\n",
        "\n",
        "    def info(self):\n",
        "        print(f'Area: {self._area}')\n",
        "        print(f'Number of floors: {self._number_of_floors}')\n",
        "\n",
        "\n",
        "def info_ext(instance):\n",
        "    print(f'Area: {instance._area}')\n",
        "    print(f'Number of floors: {instance._number_of_floors}')\n",
        "\n",
        "\n",
        "project = HouseProject(100, 1)\n",
        "project.info()"
      ],
      "metadata": {
        "colab": {
          "base_uri": "https://localhost:8080/"
        },
        "id": "Y-10e95UXnAy",
        "outputId": "1184a7d6-267e-412d-f694-417224a49221"
      },
      "execution_count": 36,
      "outputs": [
        {
          "output_type": "stream",
          "name": "stdout",
          "text": [
            "Area: 100\n",
            "Number of floors: 1\n"
          ]
        }
      ]
    },
    {
      "cell_type": "code",
      "source": [
        "info_ext(project)"
      ],
      "metadata": {
        "colab": {
          "base_uri": "https://localhost:8080/"
        },
        "id": "ugs4taN7XxG_",
        "outputId": "cc4397bf-3439-466c-f6d8-3584211cee84"
      },
      "execution_count": 37,
      "outputs": [
        {
          "output_type": "stream",
          "name": "stdout",
          "text": [
            "Area: 100\n",
            "Number of floors: 1\n"
          ]
        }
      ]
    },
    {
      "cell_type": "code",
      "source": [
        "class HouseProject:\n",
        "\n",
        "    def __init__(self, area, number_of_floors):\n",
        "        self.__area = area\n",
        "        self.__number_of_floors = number_of_floors\n",
        "\n",
        "    def info(self):\n",
        "        print(f'Area: {self.__area}')\n",
        "        print(f'Number of floors: {self.__number_of_floors}')\n",
        "\n",
        "\n",
        "def info_ext(instance):\n",
        "    print(f'Area: {instance._HouseProject__area}')\n",
        "    print(f'Number of floors: {instance._HouseProject__number_of_floors}')\n",
        "\n",
        "\n",
        "project = HouseProject(100, 1)\n",
        "project.info()"
      ],
      "metadata": {
        "colab": {
          "base_uri": "https://localhost:8080/"
        },
        "id": "IyFmFvgHX0KG",
        "outputId": "eb5182b1-55e0-4f3d-9c72-9a6e924ac183"
      },
      "execution_count": 41,
      "outputs": [
        {
          "output_type": "stream",
          "name": "stdout",
          "text": [
            "Area: 100\n",
            "Number of floors: 1\n"
          ]
        }
      ]
    },
    {
      "cell_type": "code",
      "source": [
        "info_ext"
      ],
      "metadata": {
        "colab": {
          "base_uri": "https://localhost:8080/"
        },
        "id": "iMe-IAP4X_DB",
        "outputId": "d351872b-51db-4f99-d9c0-1b7c3a2f8ff8"
      },
      "execution_count": 39,
      "outputs": [
        {
          "output_type": "execute_result",
          "data": {
            "text/plain": [
              "<function __main__.info_ext(instance)>"
            ]
          },
          "metadata": {},
          "execution_count": 39
        }
      ]
    },
    {
      "cell_type": "code",
      "source": [
        "info_ext(project)"
      ],
      "metadata": {
        "colab": {
          "base_uri": "https://localhost:8080/"
        },
        "id": "CyDgazs7aFOP",
        "outputId": "f097acfd-a3b5-4a93-cbf7-c9147deec4ad"
      },
      "execution_count": 42,
      "outputs": [
        {
          "output_type": "stream",
          "name": "stdout",
          "text": [
            "Area: 100\n",
            "Number of floors: 1\n"
          ]
        }
      ]
    },
    {
      "cell_type": "code",
      "source": [],
      "metadata": {
        "id": "gsUQ1wmMaHAM"
      },
      "execution_count": null,
      "outputs": []
    }
  ]
}